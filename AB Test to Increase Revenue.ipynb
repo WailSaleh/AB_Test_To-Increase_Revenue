{
 "cells": [
  {
   "cell_type": "markdown",
   "metadata": {},
   "source": [
    "# Compile Hypotheses to Help Increase Revenue."
   ]
  },
  {
   "cell_type": "markdown",
   "metadata": {},
   "source": [
    "You are an analyst at a large online store. Together with the marketing department, you've compiled a list of hypotheses that can help increase revenue.\n",
    "\n",
    "You need to prioritize these hypotheses, launch an A/B test, and analyze the results.\n",
    "\n",
    "The archive (hypotheses_us.csv) contains nine possibilities to increase the revenue of an online store with Reach, Impact, Confidence and Effort specified for each.\n",
    "\n",
    "A/B test was perfomed and obtained the results described in the and (orders_us.csv) and (visitors_us.csv)"
   ]
  },
  {
   "cell_type": "markdown",
   "metadata": {},
   "source": [
    "## Load data and prepare it for analysis"
   ]
  },
  {
   "cell_type": "markdown",
   "metadata": {},
   "source": [
    "### Initialization"
   ]
  },
  {
   "cell_type": "code",
   "execution_count": 61,
   "metadata": {},
   "outputs": [],
   "source": [
    "# Load the libraries\n",
    "import pandas as pd\n",
    "import numpy as np\n",
    "from matplotlib import pyplot as plt\n",
    "from scipy import stats as st\n",
    "import seaborn as sns"
   ]
  },
  {
   "cell_type": "markdown",
   "metadata": {},
   "source": [
    "### Load Data"
   ]
  },
  {
   "cell_type": "code",
   "execution_count": 62,
   "metadata": {},
   "outputs": [
    {
     "name": "stdout",
     "output_type": "stream",
     "text": [
      "<class 'pandas.core.frame.DataFrame'>\n",
      "RangeIndex: 9 entries, 0 to 8\n",
      "Data columns (total 5 columns):\n",
      " #   Column      Non-Null Count  Dtype \n",
      "---  ------      --------------  ----- \n",
      " 0   Hypothesis  9 non-null      object\n",
      " 1   Reach       9 non-null      int64 \n",
      " 2   Impact      9 non-null      int64 \n",
      " 3   Confidence  9 non-null      int64 \n",
      " 4   Effort      9 non-null      int64 \n",
      "dtypes: int64(4), object(1)\n",
      "memory usage: 1.6 KB\n"
     ]
    }
   ],
   "source": [
    "# Laod data containing nine hypotheses\n",
    "hypo_df = pd.read_csv(\"/datasets/hypotheses_us.csv\", sep = ';')\n",
    "hypo_df.info(memory_usage='deep')"
   ]
  },
  {
   "cell_type": "code",
   "execution_count": 63,
   "metadata": {},
   "outputs": [
    {
     "name": "stdout",
     "output_type": "stream",
     "text": [
      "<class 'pandas.core.frame.DataFrame'>\n",
      "RangeIndex: 1197 entries, 0 to 1196\n",
      "Data columns (total 5 columns):\n",
      " #   Column         Non-Null Count  Dtype         \n",
      "---  ------         --------------  -----         \n",
      " 0   transactionId  1197 non-null   int64         \n",
      " 1   visitorId      1197 non-null   int64         \n",
      " 2   date           1197 non-null   datetime64[ns]\n",
      " 3   revenue        1197 non-null   float64       \n",
      " 4   group          1197 non-null   object        \n",
      "dtypes: datetime64[ns](1), float64(1), int64(2), object(1)\n",
      "memory usage: 105.3 KB\n"
     ]
    }
   ],
   "source": [
    "# Laod data for A/B test orders result\n",
    "orders_df = pd.read_csv(\"/datasets/orders_us.csv\", sep = ',',  parse_dates = [\"date\"])\n",
    "orders_df.info(memory_usage='deep')"
   ]
  },
  {
   "cell_type": "code",
   "execution_count": 64,
   "metadata": {},
   "outputs": [
    {
     "name": "stdout",
     "output_type": "stream",
     "text": [
      "<class 'pandas.core.frame.DataFrame'>\n",
      "RangeIndex: 62 entries, 0 to 61\n",
      "Data columns (total 3 columns):\n",
      " #   Column  Non-Null Count  Dtype         \n",
      "---  ------  --------------  -----         \n",
      " 0   date    62 non-null     datetime64[ns]\n",
      " 1   group   62 non-null     object        \n",
      " 2   visits  62 non-null     int64         \n",
      "dtypes: datetime64[ns](1), int64(1), object(1)\n",
      "memory usage: 4.6 KB\n"
     ]
    }
   ],
   "source": [
    "# Laod data for A/B test visitors result\n",
    "visits_df = pd.read_csv(\"/datasets/visits_us.csv\", sep = ',',  parse_dates = [\"date\"])\n",
    "visits_df.info(memory_usage='deep')"
   ]
  },
  {
   "cell_type": "markdown",
   "metadata": {},
   "source": [
    "## Prioritizing Hypotheses"
   ]
  },
  {
   "cell_type": "markdown",
   "metadata": {},
   "source": [
    "### Apply the ICE framework to prioritize hypotheses. Sort them in descending order of priority."
   ]
  },
  {
   "cell_type": "code",
   "execution_count": 65,
   "metadata": {},
   "outputs": [
    {
     "data": {
      "text/html": [
       "<div>\n",
       "<style scoped>\n",
       "    .dataframe tbody tr th:only-of-type {\n",
       "        vertical-align: middle;\n",
       "    }\n",
       "\n",
       "    .dataframe tbody tr th {\n",
       "        vertical-align: top;\n",
       "    }\n",
       "\n",
       "    .dataframe thead th {\n",
       "        text-align: right;\n",
       "    }\n",
       "</style>\n",
       "<table border=\"1\" class=\"dataframe\">\n",
       "  <thead>\n",
       "    <tr style=\"text-align: right;\">\n",
       "      <th></th>\n",
       "      <th>Hypothesis</th>\n",
       "      <th>Reach</th>\n",
       "      <th>Impact</th>\n",
       "      <th>Confidence</th>\n",
       "      <th>Effort</th>\n",
       "      <th>ICE score</th>\n",
       "    </tr>\n",
       "  </thead>\n",
       "  <tbody>\n",
       "    <tr>\n",
       "      <th>8</th>\n",
       "      <td>Launch a promotion that gives users discounts ...</td>\n",
       "      <td>1</td>\n",
       "      <td>9</td>\n",
       "      <td>9</td>\n",
       "      <td>5</td>\n",
       "      <td>16.200000</td>\n",
       "    </tr>\n",
       "    <tr>\n",
       "      <th>0</th>\n",
       "      <td>Add two new channels for attracting traffic. T...</td>\n",
       "      <td>3</td>\n",
       "      <td>10</td>\n",
       "      <td>8</td>\n",
       "      <td>6</td>\n",
       "      <td>13.333333</td>\n",
       "    </tr>\n",
       "    <tr>\n",
       "      <th>7</th>\n",
       "      <td>Add a subscription form to all the main pages....</td>\n",
       "      <td>10</td>\n",
       "      <td>7</td>\n",
       "      <td>8</td>\n",
       "      <td>5</td>\n",
       "      <td>11.200000</td>\n",
       "    </tr>\n",
       "    <tr>\n",
       "      <th>6</th>\n",
       "      <td>Show banners with current offers and sales on ...</td>\n",
       "      <td>5</td>\n",
       "      <td>3</td>\n",
       "      <td>8</td>\n",
       "      <td>3</td>\n",
       "      <td>8.000000</td>\n",
       "    </tr>\n",
       "    <tr>\n",
       "      <th>2</th>\n",
       "      <td>Add product recommendation blocks to the store...</td>\n",
       "      <td>8</td>\n",
       "      <td>3</td>\n",
       "      <td>7</td>\n",
       "      <td>3</td>\n",
       "      <td>7.000000</td>\n",
       "    </tr>\n",
       "    <tr>\n",
       "      <th>1</th>\n",
       "      <td>Launch your own delivery service. This will sh...</td>\n",
       "      <td>2</td>\n",
       "      <td>5</td>\n",
       "      <td>4</td>\n",
       "      <td>10</td>\n",
       "      <td>2.000000</td>\n",
       "    </tr>\n",
       "    <tr>\n",
       "      <th>5</th>\n",
       "      <td>Add a customer review page. This will increase...</td>\n",
       "      <td>3</td>\n",
       "      <td>2</td>\n",
       "      <td>2</td>\n",
       "      <td>3</td>\n",
       "      <td>1.333333</td>\n",
       "    </tr>\n",
       "    <tr>\n",
       "      <th>3</th>\n",
       "      <td>Change the category structure. This will incre...</td>\n",
       "      <td>8</td>\n",
       "      <td>3</td>\n",
       "      <td>3</td>\n",
       "      <td>8</td>\n",
       "      <td>1.125000</td>\n",
       "    </tr>\n",
       "    <tr>\n",
       "      <th>4</th>\n",
       "      <td>Change the background color on the main page. ...</td>\n",
       "      <td>3</td>\n",
       "      <td>1</td>\n",
       "      <td>1</td>\n",
       "      <td>1</td>\n",
       "      <td>1.000000</td>\n",
       "    </tr>\n",
       "  </tbody>\n",
       "</table>\n",
       "</div>"
      ],
      "text/plain": [
       "                                          Hypothesis  Reach  Impact  \\\n",
       "8  Launch a promotion that gives users discounts ...      1       9   \n",
       "0  Add two new channels for attracting traffic. T...      3      10   \n",
       "7  Add a subscription form to all the main pages....     10       7   \n",
       "6  Show banners with current offers and sales on ...      5       3   \n",
       "2  Add product recommendation blocks to the store...      8       3   \n",
       "1  Launch your own delivery service. This will sh...      2       5   \n",
       "5  Add a customer review page. This will increase...      3       2   \n",
       "3  Change the category structure. This will incre...      8       3   \n",
       "4  Change the background color on the main page. ...      3       1   \n",
       "\n",
       "   Confidence  Effort  ICE score  \n",
       "8           9       5  16.200000  \n",
       "0           8       6  13.333333  \n",
       "7           8       5  11.200000  \n",
       "6           8       3   8.000000  \n",
       "2           7       3   7.000000  \n",
       "1           4      10   2.000000  \n",
       "5           2       3   1.333333  \n",
       "3           3       8   1.125000  \n",
       "4           1       1   1.000000  "
      ]
     },
     "execution_count": 65,
     "metadata": {},
     "output_type": "execute_result"
    }
   ],
   "source": [
    "# Calculate the ICE score\n",
    "hypo_df['ICE score'] = (hypo_df['Impact'] * hypo_df['Confidence']) / hypo_df['Effort']\n",
    "hypo_df = hypo_df.sort_values(by='ICE score', ascending=False)\n",
    "\n",
    "hypo_df"
   ]
  },
  {
   "cell_type": "markdown",
   "metadata": {},
   "source": [
    "Based on the ICE framework analysis, the top priority hypotheses are:\n",
    "\n",
    "Launching a promotion with discounts, adding new traffic channels, and incorporating subscription forms on main pages."
   ]
  },
  {
   "cell_type": "markdown",
   "metadata": {},
   "source": [
    "### Apply the RICE framework to prioritize hypotheses. Sort them in descending order of priority."
   ]
  },
  {
   "cell_type": "code",
   "execution_count": 66,
   "metadata": {},
   "outputs": [
    {
     "data": {
      "text/html": [
       "<div>\n",
       "<style scoped>\n",
       "    .dataframe tbody tr th:only-of-type {\n",
       "        vertical-align: middle;\n",
       "    }\n",
       "\n",
       "    .dataframe tbody tr th {\n",
       "        vertical-align: top;\n",
       "    }\n",
       "\n",
       "    .dataframe thead th {\n",
       "        text-align: right;\n",
       "    }\n",
       "</style>\n",
       "<table border=\"1\" class=\"dataframe\">\n",
       "  <thead>\n",
       "    <tr style=\"text-align: right;\">\n",
       "      <th></th>\n",
       "      <th>Hypothesis</th>\n",
       "      <th>Reach</th>\n",
       "      <th>Impact</th>\n",
       "      <th>Confidence</th>\n",
       "      <th>Effort</th>\n",
       "      <th>ICE score</th>\n",
       "      <th>RICE score</th>\n",
       "    </tr>\n",
       "  </thead>\n",
       "  <tbody>\n",
       "    <tr>\n",
       "      <th>7</th>\n",
       "      <td>Add a subscription form to all the main pages....</td>\n",
       "      <td>10</td>\n",
       "      <td>7</td>\n",
       "      <td>8</td>\n",
       "      <td>5</td>\n",
       "      <td>11.200000</td>\n",
       "      <td>112.0</td>\n",
       "    </tr>\n",
       "    <tr>\n",
       "      <th>2</th>\n",
       "      <td>Add product recommendation blocks to the store...</td>\n",
       "      <td>8</td>\n",
       "      <td>3</td>\n",
       "      <td>7</td>\n",
       "      <td>3</td>\n",
       "      <td>7.000000</td>\n",
       "      <td>56.0</td>\n",
       "    </tr>\n",
       "    <tr>\n",
       "      <th>0</th>\n",
       "      <td>Add two new channels for attracting traffic. T...</td>\n",
       "      <td>3</td>\n",
       "      <td>10</td>\n",
       "      <td>8</td>\n",
       "      <td>6</td>\n",
       "      <td>13.333333</td>\n",
       "      <td>40.0</td>\n",
       "    </tr>\n",
       "    <tr>\n",
       "      <th>6</th>\n",
       "      <td>Show banners with current offers and sales on ...</td>\n",
       "      <td>5</td>\n",
       "      <td>3</td>\n",
       "      <td>8</td>\n",
       "      <td>3</td>\n",
       "      <td>8.000000</td>\n",
       "      <td>40.0</td>\n",
       "    </tr>\n",
       "    <tr>\n",
       "      <th>8</th>\n",
       "      <td>Launch a promotion that gives users discounts ...</td>\n",
       "      <td>1</td>\n",
       "      <td>9</td>\n",
       "      <td>9</td>\n",
       "      <td>5</td>\n",
       "      <td>16.200000</td>\n",
       "      <td>16.2</td>\n",
       "    </tr>\n",
       "    <tr>\n",
       "      <th>3</th>\n",
       "      <td>Change the category structure. This will incre...</td>\n",
       "      <td>8</td>\n",
       "      <td>3</td>\n",
       "      <td>3</td>\n",
       "      <td>8</td>\n",
       "      <td>1.125000</td>\n",
       "      <td>9.0</td>\n",
       "    </tr>\n",
       "    <tr>\n",
       "      <th>1</th>\n",
       "      <td>Launch your own delivery service. This will sh...</td>\n",
       "      <td>2</td>\n",
       "      <td>5</td>\n",
       "      <td>4</td>\n",
       "      <td>10</td>\n",
       "      <td>2.000000</td>\n",
       "      <td>4.0</td>\n",
       "    </tr>\n",
       "    <tr>\n",
       "      <th>5</th>\n",
       "      <td>Add a customer review page. This will increase...</td>\n",
       "      <td>3</td>\n",
       "      <td>2</td>\n",
       "      <td>2</td>\n",
       "      <td>3</td>\n",
       "      <td>1.333333</td>\n",
       "      <td>4.0</td>\n",
       "    </tr>\n",
       "    <tr>\n",
       "      <th>4</th>\n",
       "      <td>Change the background color on the main page. ...</td>\n",
       "      <td>3</td>\n",
       "      <td>1</td>\n",
       "      <td>1</td>\n",
       "      <td>1</td>\n",
       "      <td>1.000000</td>\n",
       "      <td>3.0</td>\n",
       "    </tr>\n",
       "  </tbody>\n",
       "</table>\n",
       "</div>"
      ],
      "text/plain": [
       "                                          Hypothesis  Reach  Impact  \\\n",
       "7  Add a subscription form to all the main pages....     10       7   \n",
       "2  Add product recommendation blocks to the store...      8       3   \n",
       "0  Add two new channels for attracting traffic. T...      3      10   \n",
       "6  Show banners with current offers and sales on ...      5       3   \n",
       "8  Launch a promotion that gives users discounts ...      1       9   \n",
       "3  Change the category structure. This will incre...      8       3   \n",
       "1  Launch your own delivery service. This will sh...      2       5   \n",
       "5  Add a customer review page. This will increase...      3       2   \n",
       "4  Change the background color on the main page. ...      3       1   \n",
       "\n",
       "   Confidence  Effort  ICE score  RICE score  \n",
       "7           8       5  11.200000       112.0  \n",
       "2           7       3   7.000000        56.0  \n",
       "0           8       6  13.333333        40.0  \n",
       "6           8       3   8.000000        40.0  \n",
       "8           9       5  16.200000        16.2  \n",
       "3           3       8   1.125000         9.0  \n",
       "1           4      10   2.000000         4.0  \n",
       "5           2       3   1.333333         4.0  \n",
       "4           1       1   1.000000         3.0  "
      ]
     },
     "execution_count": 66,
     "metadata": {},
     "output_type": "execute_result"
    }
   ],
   "source": [
    "# Calculate the RICE score\n",
    "hypo_df['RICE score'] = (hypo_df['Reach'] * hypo_df['Impact'] * hypo_df['Confidence']) / hypo_df['Effort']\n",
    "hypo_df = hypo_df.sort_values(by='RICE score', ascending=False)\n",
    "\n",
    "hypo_df"
   ]
  },
  {
   "cell_type": "markdown",
   "metadata": {},
   "source": [
    "Based on the RICE framework analysis, the top priority hypotheses are:\n",
    "\n",
    "Adding a subscription form to all main pages, followed by adding product recommendation blocks and adding two new channels for attracting traffic."
   ]
  },
  {
   "cell_type": "markdown",
   "metadata": {},
   "source": [
    "### Show how hypothesis prioritization changes when you use RICE instead of ICE. Give an explanation for the changes."
   ]
  },
  {
   "cell_type": "code",
   "execution_count": 67,
   "metadata": {},
   "outputs": [
    {
     "data": {
      "image/png": "[encoded data removed]",
      "text/plain": [
       "<Figure size 1600x800 with 1 Axes>"
      ]
     },
     "metadata": {},
     "output_type": "display_data"
    }
   ],
   "source": [
    "# Plot the ICE and RICE scores\n",
    "fig, ax = plt.subplots(figsize=(16, 8))\n",
    "\n",
    "# Plot ICE scores\n",
    "hypo_df['ICE score'].plot(kind='bar', width=0.4, position=1, ax=ax, label='ICE score', color='Blue')\n",
    "\n",
    "# Plot RICE scores\n",
    "hypo_df['RICE score'].plot(kind='bar', width=0.4, position=0, ax=ax, label='RICE score', color='Red')\n",
    "\n",
    "plt.title('Comparison of ICE and RICE Scores for Hypotheses Prioritization')\n",
    "plt.xlabel('Hypothesis')\n",
    "plt.ylabel('Score')\n",
    "plt.xticks(rotation=90)\n",
    "plt.legend()\n",
    "\n",
    "plt.show()"
   ]
  },
  {
   "cell_type": "markdown",
   "metadata": {},
   "source": [
    "Add a subscription form to all the main pages: This hypothesis moves from third place in ICE to first in RICE due to its high reach. It impacts a large number of users, which significantly boosts its RICE score.\n",
    "\n",
    "Add product recommendation blocks to the store: This hypothesis jumps from fifth place in ICE to second in RICE, again due to its higher reach.\n",
    "\n",
    "Show banners with current offers and sales: This hypothesis moves up slightly due to the reach factor, tying for third place in RICE\n",
    "\n",
    "Launch a promotion that gives users discounts: This hypothesis drops from first in ICE to fifth in RICE because, despite its high impact and confidence, its reach is lower than other initiatives.\n",
    "\n",
    "Change the category structure, launch your own delivery service, add a customer review page, and change the background color: These hypotheses remain low priority in both frameworks, as their lower impact and reach do not justify higher prioritization.\n",
    "\n",
    "As we can notice from the graph that the addition of the \"Reach\" factor in the RICE framework significantly affects prioritization.\n",
    "\n",
    "Hypotheses with a high reach are given higher priority because they affect a larger number of users, potentially offering greater overall benefits. This causes initiatives that impact more users to move up in priority, while those with high impact but limited reach move down.\n",
    "\n",
    "Prioritizing using RICE offers a more comprehensive perspective by accounting for the number of users impacted, ensuring resources are directed towards initiatives with the widest influence."
   ]
  },
  {
   "cell_type": "markdown",
   "metadata": {},
   "source": [
    "## A/B Test Analysis"
   ]
  },
  {
   "cell_type": "markdown",
   "metadata": {},
   "source": [
    "### Plot chart of the cumulative revenue by group. Draw conclusions and create conjectures."
   ]
  },
  {
   "cell_type": "code",
   "execution_count": 68,
   "metadata": {},
   "outputs": [
    {
     "name": "stdout",
     "output_type": "stream",
     "text": [
      "          date group  transactionId  visitorId  revenue\n",
      "55  2019-08-01     A             24         20   2356.8\n",
      "66  2019-08-01     B             21         20   1620.0\n",
      "175 2019-08-02     A             44         38   3860.3\n",
      "173 2019-08-02     B             45         43   4243.8\n",
      "291 2019-08-03     A             68         62   5675.5\n",
      "          date group  visits\n",
      "55  2019-08-01     A     719\n",
      "66  2019-08-01     B     713\n",
      "175 2019-08-02     A    1338\n",
      "173 2019-08-02     B    1294\n",
      "291 2019-08-03     A    1845\n"
     ]
    }
   ],
   "source": [
    "# Constructing a vector with values of unique pairs of date groups \n",
    "datesGroups = orders_df[['date','group']].drop_duplicates()\n",
    "\n",
    "\n",
    "# Getting daily cumulative aggregated data on orders \n",
    "ordersAggregated = datesGroups.apply(lambda x: orders_df[np.logical_and(orders_df['date'] <= x['date'], orders_df['group'] == x['group'])].agg({'date' : 'max', 'group' : 'max', 'transactionId' : pd.Series.nunique, 'visitorId' : pd.Series.nunique, 'revenue' : 'sum'}), axis=1).sort_values(by=['date','group'])\n",
    "print(ordersAggregated.head())\n",
    "\n",
    "# Getting daily cumulative aggregated data on visitors \n",
    "visitorsAggregated = datesGroups.apply(lambda x: visits_df[np.logical_and(visits_df['date'] <= x['date'], visits_df['group'] == x['group'])].agg({'date' : 'max', 'group' : 'max', 'visits' : 'sum'}), axis=1).sort_values(by=['date','group'])\n",
    "print(visitorsAggregated.head())"
   ]
  },
  {
   "cell_type": "code",
   "execution_count": 69,
   "metadata": {},
   "outputs": [
    {
     "name": "stdout",
     "output_type": "stream",
     "text": [
      "         date group  orders  buyers  revenue  visitors\n",
      "0  2019-08-01     A      24      20   2356.8       719\n",
      "1  2019-08-01     B      21      20   1620.0       713\n",
      "2  2019-08-02     A      44      38   3860.3      1338\n",
      "3  2019-08-02     B      45      43   4243.8      1294\n",
      "4  2019-08-03     A      68      62   5675.5      1845\n",
      "..        ...   ...     ...     ...      ...       ...\n",
      "57 2019-08-29     B     596     544  87343.0     17708\n",
      "58 2019-08-30     A     545     493  63563.5     18037\n",
      "59 2019-08-30     B     620     567  90736.3     18198\n",
      "60 2019-08-31     A     557     503  64554.9     18736\n",
      "61 2019-08-31     B     640     586  92840.6     18916\n",
      "\n",
      "[62 rows x 6 columns]\n"
     ]
    }
   ],
   "source": [
    "# Merging the two tables into one and giving descriptive names to their columns\n",
    "cumulativeData = ordersAggregated.merge(visitorsAggregated, left_on=['date', 'group'], right_on=['date', 'group'])\n",
    "cumulativeData.columns = ['date', 'group', 'orders', 'buyers', 'revenue', 'visitors']\n",
    "\n",
    "print(cumulativeData)"
   ]
  },
  {
   "cell_type": "code",
   "execution_count": 70,
   "metadata": {},
   "outputs": [
    {
     "data": {
      "text/plain": [
       "<matplotlib.legend.Legend at 0x7f7769cfe1f0>"
      ]
     },
     "execution_count": 70,
     "metadata": {},
     "output_type": "execute_result"
    },
    {
     "data": {
      "image/png": "[encoded data removed]",
      "text/plain": [
       "<Figure size 1000x600 with 1 Axes>"
      ]
     },
     "metadata": {},
     "output_type": "display_data"
    }
   ],
   "source": [
    "#Plot charts of the daily cumulative revenue and the A/B test group:\n",
    "\n",
    "# DataFrame with Cumulative Order & Cumulative Revenue per Day, Group A\n",
    "cumulativeRevenueA = cumulativeData[cumulativeData['group']=='A'][['date','revenue', 'orders']]\n",
    "\n",
    "# DataFrame with Cumulative Order & Cumulative Revenue per Day, Group B\n",
    "cumulativeRevenueB = cumulativeData[cumulativeData['group']=='B'][['date','revenue', 'orders']]\n",
    "\n",
    "plt.figure(figsize=(10, 6))\n",
    "# building the revenue chart of group A \n",
    "plt.plot(cumulativeRevenueA['date'], cumulativeRevenueA['revenue'], label='A')\n",
    "\n",
    "# building the group B revenue chart \n",
    "plt.plot(cumulativeRevenueB['date'], cumulativeRevenueB['revenue'], label='B')\n",
    "\n",
    "plt.legend()"
   ]
  },
  {
   "cell_type": "markdown",
   "metadata": {},
   "source": [
    "As we can conclude, both Groups show steady growth in revenue throughout the test, with Group B leading the numbers, which is great. Although, we can observe that both groups have revenue peaks at certain points. This may suggest both an increase in the number of orders and also the presence of outliers such as very expensive orders in the sample."
   ]
  },
  {
   "cell_type": "markdown",
   "metadata": {},
   "source": [
    "### Plot chart of the average cumulative order size by group. Draw conclusions and create conjectures."
   ]
  },
  {
   "cell_type": "code",
   "execution_count": 71,
   "metadata": {},
   "outputs": [
    {
     "data": {
      "text/plain": [
       "<matplotlib.legend.Legend at 0x7f7769d1a730>"
      ]
     },
     "execution_count": 71,
     "metadata": {},
     "output_type": "execute_result"
    },
    {
     "data": {
      "image/png": "[encoded data removed]",
      "text/plain": [
       "<Figure size 1000x600 with 1 Axes>"
      ]
     },
     "metadata": {},
     "output_type": "display_data"
    }
   ],
   "source": [
    "# Plot chart of the average cumulative order size by group\n",
    "# Divide the cumulative revenue by the cumulative order quantity\n",
    "\n",
    "plt.figure(figsize=(10, 6))\n",
    "plt.plot(cumulativeRevenueA['date'], cumulativeRevenueA['revenue']/cumulativeRevenueA['orders'], label='A')\n",
    "plt.plot(cumulativeRevenueB['date'], cumulativeRevenueB['revenue']/cumulativeRevenueB['orders'], label='B')\n",
    "plt.legend()"
   ]
  },
  {
   "cell_type": "markdown",
   "metadata": {},
   "source": [
    "The average cumulative order size for Group A initially fell, indicating a period of decreased order value or performance. It then increased and stabilized toward the end of the test, showing recovery and stabilization in order size.\n",
    "\n",
    "Group B average cumulative order size increased from the beginning, stabilized in the middle of the test, and then experienced a significant increase (hike) before falling at the end of the test. This suggests variability in order sizes, with some very large orders impacting the overall average.\n",
    "\n",
    "The variability in Group B’s average order size indicates that additional data might be necessary to accurately determine its true average cumulative order size. "
   ]
  },
  {
   "cell_type": "markdown",
   "metadata": {},
   "source": [
    "### Plot a chart of the relative difference in the cumulative average order size for group B compared to group A. Make conclusions and create conjectures."
   ]
  },
  {
   "cell_type": "code",
   "execution_count": 72,
   "metadata": {},
   "outputs": [
    {
     "data": {
      "text/plain": [
       "<matplotlib.lines.Line2D at 0x7f7769c92cd0>"
      ]
     },
     "execution_count": 72,
     "metadata": {},
     "output_type": "execute_result"
    },
    {
     "data": {
      "image/png": "[encoded data removed]",
      "text/plain": [
       "<Figure size 1000x600 with 1 Axes>"
      ]
     },
     "metadata": {},
     "output_type": "display_data"
    }
   ],
   "source": [
    "# Merge the CumulativeRevenue data of both group\n",
    "mergedCumulativeRevenue = cumulativeRevenueA.merge(cumulativeRevenueB, left_on='date', right_on='date', how='left', suffixes=['A', 'B'])\n",
    "\n",
    "# Build a relative difference chart for cumulative average order size\n",
    "plt.figure(figsize=(10, 6))\n",
    "plt.plot(mergedCumulativeRevenue['date'], (mergedCumulativeRevenue['revenueB']/mergedCumulativeRevenue['ordersB'])/(mergedCumulativeRevenue['revenueA']/mergedCumulativeRevenue['ordersA'])-1)\n",
    "\n",
    "# Adding the X-axis\n",
    "plt.axhline(y=0, color='black', linestyle='--')"
   ]
  },
  {
   "cell_type": "markdown",
   "metadata": {},
   "source": [
    "From the graph we can conclude that, the relative difference in the cumulative average order size for group B is greater than compared to group A most of the time. However, this difference between the groups peaks at several points, which indicates the occurrence of large orders and outliers. We will find them in the cotinuation of our analysis.\n",
    "\n",
    "The higher relative difference for Group B may indicate that this group has a higher frequency of large orders or more extreme values compared to Group A.\n",
    "\n",
    "The presence of large orders in Group B might suggest that specific strategies, promotions, or customer segments are contributing to higher average order sizes. Investigating these factors could provide actionable insights for optimizing performance in both groups.\n",
    "\n",
    "If the large orders or peaks are significant, they might offer opportunities for targeted strategies or adjustments to maximize revenue. Conversely, if these outliers are identified as anomalies, focusing on more consistent patterns may be beneficial."
   ]
  },
  {
   "cell_type": "markdown",
   "metadata": {},
   "source": [
    "### Calculate the conversion rate for each group as the ratio of orders to the number of visits for each day. Plot the daily conversion rates of the two groups and describe the difference. Draw conclusions and create conjectures."
   ]
  },
  {
   "cell_type": "code",
   "execution_count": 73,
   "metadata": {},
   "outputs": [
    {
     "data": {
      "text/plain": [
       "(0.0, 0.05)"
      ]
     },
     "execution_count": 73,
     "metadata": {},
     "output_type": "execute_result"
    },
    {
     "data": {
      "image/png": "[encoded data removed]",
      "text/plain": [
       "<Figure size 1200x600 with 1 Axes>"
      ]
     },
     "metadata": {},
     "output_type": "display_data"
    }
   ],
   "source": [
    "# Calculating Cumulative Conversion\n",
    "cumulativeData['conversion'] = cumulativeData['orders']/cumulativeData['visitors']\n",
    "\n",
    "# select data of group A\n",
    "cumulativeDataA = cumulativeData[cumulativeData['group']=='A']\n",
    "\n",
    "# select data of group B\n",
    "cumulativeDataB = cumulativeData[cumulativeData['group']=='B']\n",
    "\n",
    "# Plot the Charts\n",
    "plt.figure(figsize=(12, 6))\n",
    "plt.plot(cumulativeDataA['date'], cumulativeDataA['conversion'], label='A')\n",
    "plt.plot(cumulativeDataB['date'], cumulativeDataB['conversion'], label='B')\n",
    "plt.legend()\n",
    "\n",
    "# Defining the scale of the axes\n",
    "plt.xlim(pd.Timestamp('2019-08-01'), pd.Timestamp('2019-09-01'))\n",
    "plt.ylim(0, 0.05)"
   ]
  },
  {
   "cell_type": "markdown",
   "metadata": {},
   "source": [
    "We can conclude that the groups were fluctuating around the same value, but the conversion rate of group B rose before stabilizing, while the conversion rate of group A fell, and then became stable. Both groups eventually stabilized, indicating that any initial volatility or changes were temporary, and both groups reached a steady state.\n",
    "\n",
    "If Group B had any new strategies or interventions implemented, these might have contributed to the initial rise in conversion rate. The decline in Group A's conversion rate might be attributed to seasonal factors or external influences\n",
    "\n",
    "Group B's rise and subsequent stabilization could suggest market saturation or a positive response to a promotional activity. Similarly, Group A's decline could indicate a response to market conditions or decreased effectiveness of previous strategies.\n",
    "\n",
    "Changes in conversion rates could also reflect shifts in customer behavior or preferences. Analyzing customer feedback or engagement metrics during these periods might provide further insights"
   ]
  },
  {
   "cell_type": "markdown",
   "metadata": {},
   "source": [
    "### Plot a chart of the relative difference in cumulative conversion for group B compared to group A. Draw conclusions and conjecture."
   ]
  },
  {
   "cell_type": "code",
   "execution_count": 74,
   "metadata": {},
   "outputs": [
    {
     "data": {
      "text/plain": [
       "(-0.4, 0.4)"
      ]
     },
     "execution_count": 74,
     "metadata": {},
     "output_type": "execute_result"
    },
    {
     "data": {
      "image/png": "[encoded data removed]",
      "text/plain": [
       "<Figure size 1200x600 with 1 Axes>"
      ]
     },
     "metadata": {},
     "output_type": "display_data"
    }
   ],
   "source": [
    "#Merge the Cumulative Convertion data of both group\n",
    "\n",
    "mergedCumulativeConversions = cumulativeDataA[['date','conversion']].merge(cumulativeDataB[['date','conversion']], left_on='date', right_on='date', how='left', suffixes=['A', 'B'])\n",
    "\n",
    "#Plot the Chart\n",
    "plt.figure(figsize=(12, 6))\n",
    "plt.plot(mergedCumulativeConversions['date'], mergedCumulativeConversions['conversionB']/mergedCumulativeConversions['conversionA']-1)\n",
    "\n",
    "# Defining the scale of the axes\n",
    "plt.axhline(y=0, color='black', linestyle='--')\n",
    "plt.axhline(y=-0.1, color='grey', linestyle='--')\n",
    "plt.xlim(pd.Timestamp('2019-08-01'), pd.Timestamp('2019-09-01'))\n",
    "plt.ylim(-0.4, 0.4)"
   ]
  },
  {
   "cell_type": "markdown",
   "metadata": {},
   "source": [
    "At the beginning of the test, Group B was lagging behind Group A in terms of conversion rates. Suddenly, Group B experienced a significant improvement, overtaking Group A and leading in conversion rates. After this initial surge, Group B’s conversion rates stabilized and maintained a leading position throughout the remainder of the test.\n",
    "\n",
    "The rise in Group B’s conversion rate could reflect a successful adaptation to market conditions or customer preferences, leading to better performance compared to Group A. Group B’s ability to maintain its leading position suggests that the improvements were not just short-lived but had a lasting impact on performance."
   ]
  },
  {
   "cell_type": "markdown",
   "metadata": {},
   "source": [
    "### Calculate the 95th and 99th percentiles for the number of orders per user. Define the point at which a data point becomes an anomaly."
   ]
  },
  {
   "cell_type": "code",
   "execution_count": 75,
   "metadata": {},
   "outputs": [
    {
     "name": "stdout",
     "output_type": "stream",
     "text": [
      "          userId  orders\n",
      "1023  4256040402      11\n",
      "591   2458001652      11\n",
      "569   2378935119       9\n",
      "487   2038680547       8\n",
      "44     199603092       5\n",
      "744   3062433592       5\n",
      "55     237748145       5\n",
      "917   3803269165       5\n",
      "299   1230306981       5\n",
      "897   3717692402       5\n"
     ]
    }
   ],
   "source": [
    "#Calculate number or orders per user\n",
    "ordersByUsers = orders_df.drop(['group', 'revenue', 'date'], axis=1).groupby('visitorId', as_index=False).agg({'transactionId': pd.Series.nunique})\n",
    "\n",
    "# Rename columns name    \n",
    "ordersByUsers.columns = ['userId', 'orders']\n",
    "\n",
    "print(ordersByUsers.sort_values(by='orders', ascending=False).head(10))"
   ]
  },
  {
   "cell_type": "code",
   "execution_count": 76,
   "metadata": {},
   "outputs": [
    {
     "data": {
      "text/plain": [
       "(array([937.,  64.,  17.,   3.,   6.,   0.,   0.,   1.,   1.,   2.]),\n",
       " array([ 1.,  2.,  3.,  4.,  5.,  6.,  7.,  8.,  9., 10., 11.]),\n",
       " <BarContainer object of 10 artists>)"
      ]
     },
     "execution_count": 76,
     "metadata": {},
     "output_type": "execute_result"
    },
    {
     "data": {
      "image/png": "[encoded data removed]",
      "text/plain": [
       "<Figure size 640x480 with 1 Axes>"
      ]
     },
     "metadata": {},
     "output_type": "display_data"
    }
   ],
   "source": [
    "#Plot a histogram\n",
    "plt.hist(ordersByUsers['orders'])"
   ]
  },
  {
   "cell_type": "markdown",
   "metadata": {},
   "source": [
    "Most customers have placed only one order. However, a significant portion made two to four requests each."
   ]
  },
  {
   "cell_type": "code",
   "execution_count": 77,
   "metadata": {},
   "outputs": [
    {
     "data": {
      "text/plain": [
       "<matplotlib.collections.PathCollection at 0x7f7769acc250>"
      ]
     },
     "execution_count": 77,
     "metadata": {},
     "output_type": "execute_result"
    },
    {
     "data": {
      "image/png": "[encoded data removed]",
      "text/plain": [
       "<Figure size 640x480 with 1 Axes>"
      ]
     },
     "metadata": {},
     "output_type": "display_data"
    }
   ],
   "source": [
    "#Build a scatter plot with the number of orders per user:\n",
    "\n",
    "x_values = pd.Series(range(0,len(ordersByUsers)))\n",
    "plt.scatter(x_values, ordersByUsers['orders'])"
   ]
  },
  {
   "cell_type": "markdown",
   "metadata": {},
   "source": [
    "Our conclusions have been confirmed: there are indeed many users who have placed two to four orders. We don't yet know what the exact breakdown is, as it's unclear whether or not we should consider these anomalies"
   ]
  },
  {
   "cell_type": "code",
   "execution_count": 78,
   "metadata": {},
   "outputs": [
    {
     "name": "stdout",
     "output_type": "stream",
     "text": [
      "The 95th and 99th percentiles for the number of orders per user are:\n",
      " [2. 4.]\n"
     ]
    }
   ],
   "source": [
    "# calculate percentiles for the number of orders per user\n",
    "print('The 95th and 99th percentiles for the number of orders per user are:\\n', np.percentile(ordersByUsers['orders'], [95, 99]))"
   ]
  },
  {
   "cell_type": "markdown",
   "metadata": {},
   "source": [
    "Less than 1% of users placed more than 4 orders, and less than 5% of users placed more than 2 orders.\n",
    "\n",
    "Although, it would be reasonable to set 2 requests per user as the minimum threshold for the number of requests, and values exceeding 4 requests per user are considered anomalies "
   ]
  },
  {
   "cell_type": "markdown",
   "metadata": {},
   "source": [
    "### Make a scatter plot of order revenues. Draw conclusions and create conjectures."
   ]
  },
  {
   "cell_type": "code",
   "execution_count": 79,
   "metadata": {},
   "outputs": [
    {
     "data": {
      "text/plain": [
       "<matplotlib.collections.PathCollection at 0x7f7769d36bb0>"
      ]
     },
     "execution_count": 79,
     "metadata": {},
     "output_type": "execute_result"
    },
    {
     "data": {
      "image/png": "[encoded data removed]",
      "text/plain": [
       "<Figure size 640x480 with 1 Axes>"
      ]
     },
     "metadata": {},
     "output_type": "display_data"
    }
   ],
   "source": [
    "#Plot Scatter Graph\n",
    "\n",
    "x_values = pd.Series(range(0,len(orders_df['revenue'])))\n",
    "plt.scatter(x_values, orders_df['revenue'])"
   ]
  },
  {
   "cell_type": "markdown",
   "metadata": {},
   "source": [
    "Most orders are below 2,500, indicating that high-value transactions are rare. There are notable outliers at approximately 3,000 and 200,000. The 200,000 order is particularly unusual and stands out as an abnormal data point.\n",
    "\n",
    "The presence of significant outliers could influence the average order value and overall revenue analysis. Understanding these outliers can help refine revenue calculations and business strategies."
   ]
  },
  {
   "cell_type": "markdown",
   "metadata": {},
   "source": [
    "### Calculate the 95th and 99th percentiles of order revenue. Define the point at which a data point becomes an anomaly."
   ]
  },
  {
   "cell_type": "code",
   "execution_count": 80,
   "metadata": {},
   "outputs": [
    {
     "name": "stdout",
     "output_type": "stream",
     "text": [
      "The 95th and 99th percentiles for order revenue are:\n",
      " [435.54  900.904]\n"
     ]
    }
   ],
   "source": [
    "# calculate percentiles for orders revenue\n",
    "print('The 95th and 99th percentiles for order revenue are:\\n', np.percentile(orders_df['revenue'], [95, 99]))"
   ]
  },
  {
   "cell_type": "markdown",
   "metadata": {},
   "source": [
    "Less than 1% of orders has a return of more than 900.90, and less than 5% of orders has a return of more than 435.54.\n",
    "\n",
    "Although, it would be reasonable to have orders with a revenue of 435.54 as the minimum threshold for orders revenue, and values exceeding 900.90 are considered anomalies "
   ]
  },
  {
   "cell_type": "markdown",
   "metadata": {},
   "source": [
    "### Find the statistical significance of the difference in conversion between the groups using the raw data. Draw conclusions and create conjectures."
   ]
  },
  {
   "cell_type": "code",
   "execution_count": 81,
   "metadata": {},
   "outputs": [
    {
     "name": "stdout",
     "output_type": "stream",
     "text": [
      "0.017\n",
      "0.138\n"
     ]
    }
   ],
   "source": [
    "#Create order by users for each group\n",
    "ordersByUsersA = orders_df[orders_df['group']=='A'].groupby('visitorId', as_index=False).agg({'transactionId' : pd.Series.nunique})\n",
    "ordersByUsersA.columns = ['userId', 'orders']\n",
    "\n",
    "ordersByUsersB = orders_df[orders_df['group']=='B'].groupby('visitorId', as_index=False).agg({'transactionId' : pd.Series.nunique})\n",
    "ordersByUsersB.columns = ['userId', 'orders']\n",
    "\n",
    "#Declare the variables with users from different groups and corresponding order quantities\n",
    "#Concatenate list of the number of orders per user with an object refering to Zeros for users who have not placed any orders\n",
    "sampleA = pd.concat([ordersByUsersA['orders'],pd.Series(0, index=np.arange(visits_df[visits_df['group']=='A']['visits'].sum() - len(ordersByUsersA['orders'])), name='orders')],axis=0)\n",
    "sampleB = pd.concat([ordersByUsersB['orders'],pd.Series(0, index=np.arange(visits_df[visits_df['group']=='B']['visits'].sum() - len(ordersByUsersB['orders'])), name='orders')],axis=0)\n",
    "\n",
    "#Print the relative conversion gain for group B (Round the value to three decimal places)\n",
    "print(\"{0:.3f}\".format(st.mannwhitneyu(sampleA, sampleB)[1]))\n",
    "print(\"{0:.3f}\".format(sampleB.mean()/sampleA.mean()-1))"
   ]
  },
  {
   "cell_type": "markdown",
   "metadata": {},
   "source": [
    "The p-value obtained from the test is 0.017, which is less than the significance level of 0.05.\n",
    "This indicates that we can reject the null hypothesis. Therefore, there is a statistically significant difference in the conversion rates between groups A and B based on the new dataresults.\n",
    "\n",
    "With a conversion rate of 0.138 for group B, Group B has a relative gain over Group A by 13.8%\n",
    "\n",
    "As we can notice, the strategies or changes implemented in group B were successful in improving conversion rates. Differences in user demographics, marketing channels, or user interface might have contributed to group B's higher conversion rate."
   ]
  },
  {
   "cell_type": "markdown",
   "metadata": {},
   "source": [
    "### Find the statistical significance of the difference in average order size between the groups using the raw data. Draw conclusions and create conjectures."
   ]
  },
  {
   "cell_type": "code",
   "execution_count": 82,
   "metadata": {},
   "outputs": [
    {
     "name": "stdout",
     "output_type": "stream",
     "text": [
      "0.692\n",
      "0.252\n"
     ]
    }
   ],
   "source": [
    "#Print the relative difference in average order size between the groups (Round the value to three decimal places)\n",
    "print('{0:.3f}'.format(st.mannwhitneyu(orders_df[orders_df['group']=='A']['revenue'], orders_df[orders_df['group']=='B']['revenue'])[1]))\n",
    "print('{0:.3f}'.format(orders_df[orders_df['group']=='B']['revenue'].mean()/orders_df[orders_df['group']=='A']['revenue'].mean()-1))"
   ]
  },
  {
   "cell_type": "markdown",
   "metadata": {},
   "source": [
    "The p-value of 0.692 is significantly higher than the significance level of 0.05.\n",
    "This indicates that we cannot reject the null hypothesis. Therefore, there is no statistically significant difference in the average order size between groups A and B.\n",
    "\n",
    "Despite the lack of statistical significance, the average order size of group B is higher than that of group A, with a relative increase of 25.2%\n",
    "\n",
    "The higher average order volume in group B suggests that the strategies or changes implemented may have had a positive impact, even if not statistically significant. There is an opportunity to analyze and adopt the successful elements from group B to improve the average order volume in group A.\n",
    "\n",
    "The current sample size may not be large enough to detect a significant difference. A larger sample size might provide more power to the statistical test."
   ]
  },
  {
   "cell_type": "markdown",
   "metadata": {},
   "source": [
    "### Find the statistical significance of the difference in conversion between the groups using the filtered data. Draw conclusions and create conjectures."
   ]
  },
  {
   "cell_type": "markdown",
   "metadata": {},
   "source": [
    "Define anomalous users as those who place more than 4 orders or one order greater than 900.90.\n",
    "\n",
    "Make data slices with users who have placed more than 4 orders (usersWithManyOrders) and with users who placed orders greater than 900.90 (usersWithExpensiveOrders). Let's put them together in a table called abnormalUsers."
   ]
  },
  {
   "cell_type": "code",
   "execution_count": 83,
   "metadata": {},
   "outputs": [
    {
     "name": "stdout",
     "output_type": "stream",
     "text": [
      "1099     148427295\n",
      "949      887908475\n",
      "744      888512513\n",
      "1103    1164614297\n",
      "1136    1307669133\n",
      "858     1316129916\n",
      "425     1920142716\n",
      "227     2038680547\n",
      "1196    2108080724\n",
      "326     2378935119\n",
      "278     2458001652\n",
      "940     4003628586\n",
      "743     4133034833\n",
      "499     4256040402\n",
      "662     4266935830\n",
      "dtype: int64\n",
      "(15,)\n"
     ]
    }
   ],
   "source": [
    "#Find out the total amount of anomalous users\n",
    "\n",
    "usersWithManyOrders = pd.concat([ordersByUsersA[ordersByUsersA['orders'] > 4]['userId'], ordersByUsersB[ordersByUsersB['orders'] > 4]['userId']], axis = 0)\n",
    "usersWithExpensiveOrders = orders_df[orders_df['revenue'] > 900.90]['visitorId']\n",
    "abnormalUsers = pd.concat([usersWithManyOrders, usersWithExpensiveOrders], axis = 0).drop_duplicates().sort_values()\n",
    "print(abnormalUsers)\n",
    "print(abnormalUsers.shape)"
   ]
  },
  {
   "cell_type": "markdown",
   "metadata": {},
   "source": [
    "We have 15 anomalous users in total.\n",
    "\n",
    "Will try to find out how their actions affected the test results."
   ]
  },
  {
   "cell_type": "code",
   "execution_count": 84,
   "metadata": {},
   "outputs": [
    {
     "name": "stdout",
     "output_type": "stream",
     "text": [
      "0.014\n",
      "0.153\n"
     ]
    }
   ],
   "source": [
    "#Calculate the statistical significance of differences in conversion between groups, using filtered data\n",
    "#Prepare samples of the total order quantity for each test group\n",
    "\n",
    "sampleAFiltered = pd.concat([ordersByUsersA[np.logical_not(ordersByUsersA['userId'].isin(abnormalUsers))]['orders'],pd.Series(0, index=np.arange(visits_df[visits_df['group']=='A']['visits'].sum() - len(ordersByUsersA['orders'])),name='orders')],axis=0)\n",
    "sampleBFiltered = pd.concat([ordersByUsersB[np.logical_not(ordersByUsersB['userId'].isin(abnormalUsers))]['orders'],pd.Series(0, index=np.arange(visits_df[visits_df['group']=='B']['visits'].sum() - len(ordersByUsersB['orders'])),name='orders')],axis=0)\n",
    "\n",
    "#Apply the Mann-Whitney statistical criterion\n",
    "print(\"{0:.3f}\".format(st.mannwhitneyu(sampleAFiltered, sampleBFiltered)[1]))\n",
    "print(\"{0:.3f}\".format(sampleBFiltered.mean()/sampleAFiltered.mean()-1))"
   ]
  },
  {
   "cell_type": "markdown",
   "metadata": {},
   "source": [
    "As we can see that the results are almost same with a small difference\n",
    "\n",
    "The p-value of 0.014 is less than the significance level of 0.05.\n",
    "This indicates that we can reject the null hypothesis and conclude that there is a statistically significant difference in the conversion rates between groups A and B.\n",
    "\n",
    "Group B shows a small increase (1.5%) in conversion rate to be 15.3% over Group A. This suggests that group B performed significantly better in terms of conversion rates.\n",
    "\n",
    "Filtering the data resulted in a slightly lower p-value and a marginally higher relative increase, indicating that filtering had a minor impact on the overall conclusions.\n",
    "\n",
    "The similarity in results between filtered and non-filtered data demonstrates the robustness of the findings, suggesting that group B's higher conversion rate is a reliable outcome."
   ]
  },
  {
   "cell_type": "markdown",
   "metadata": {},
   "source": [
    "### Find the statistical significance of the difference in average order size between the groups using the filtered data. Draw conclusions and create conjectures."
   ]
  },
  {
   "cell_type": "code",
   "execution_count": 85,
   "metadata": {},
   "outputs": [
    {
     "name": "stdout",
     "output_type": "stream",
     "text": [
      "0.819\n",
      "-0.006\n"
     ]
    }
   ],
   "source": [
    "# Print the  statistical significance of the difference in average order size between the groups using the filtered data\n",
    "\n",
    "print('{0:.3f}'.format(st.mannwhitneyu(orders_df[np.logical_and(orders_df['group']=='A',\n",
    "    np.logical_not(orders_df['visitorId'].isin(abnormalUsers)))]['revenue'],orders_df[np.logical_and(orders_df['group']=='B',\n",
    "    np.logical_not(orders_df['visitorId'].isin(abnormalUsers)))]['revenue'])[1]))\n",
    "\n",
    "print('{0:.3f}'.format(orders_df[np.logical_and(orders_df['group']=='B',\n",
    "    np.logical_not(orders_df['visitorId'].isin(abnormalUsers)))]['revenue'].mean()/orders_df[np.logical_and(orders_df['group']=='A',\n",
    "    np.logical_not(orders_df['visitorId'].isin(abnormalUsers)))]['revenue'].mean() - 1))"
   ]
  },
  {
   "cell_type": "markdown",
   "metadata": {},
   "source": [
    "As same as non-filtered data, the p-value which is 0.819, is much higher than 0.05, indicating no statistically significant difference in average order size between Groups A and B.\n",
    "\n",
    "The difference in average order size is -0.006, suggesting that Group B's average order size is slightly lower than Group A's, though not significantly.\n",
    "\n",
    "Filtering the data did not lead to a significant difference in average order size between the groups. The slight negative difference in the filtered data suggests that filtering might have removed some higher-value orders from group B.\n",
    "\n",
    "The filtered data continued to show no statistically significant difference in average order size between Groups A and B, indicating consistency in the lack of effect.\n",
    "\n",
    "Since there is no significant difference in average order size, focus on strategies that have proven effective in improving conversion rates, as seen in group B.\n",
    "\n",
    "Marketers should investigate external factors that might be affecting average order size, such as seasonal variations, marketing campaigns, or changes in user behavior."
   ]
  },
  {
   "cell_type": "markdown",
   "metadata": {},
   "source": [
    "## Make a decision based on the test results. The possible decisions are: 1. Stop the test, consider one of the groups the leader. 2. Stop the test, conclude that there is no difference between the groups. 3. Continue the test."
   ]
  },
  {
   "cell_type": "markdown",
   "metadata": {},
   "source": [
    "Both the non-filtered and filtered data show a statistically significant improvement in conversion rates for Group B over Group A. This is a strong indicator that Group B's strategies are more effective in driving conversions.\n",
    "\n",
    "Although there is no statistically significant difference in average order size, the conversion rates are a more critical metric for this analysis. The lack of significance in average order size does not overshadow the consistent and statistically significant improvement in conversion rates seen in Group B\n",
    "\n",
    "The graphical analysis shows that group B experienced a significant improvement and maintained a leading position in conversion rates after an initial surge, further supporting the conclusion that group B is performing better.\n",
    "\n",
    "Therefore, based on the analysis above, it is reasonable to stop the test and consider group B as the leader due to its statistically significant higher conversion rates."
   ]
  }
 ],
 "metadata": {
  "ExecuteTimeLog": [
   {
    "duration": 4926,
    "start_time": "2024-07-30T12:53:42.792Z"
   },
   {
    "duration": 3,
    "start_time": "2024-07-30T13:01:27.582Z"
   },
   {
    "duration": 21,
    "start_time": "2024-07-30T13:02:15.710Z"
   },
   {
    "duration": 15,
    "start_time": "2024-07-30T13:02:35.512Z"
   },
   {
    "duration": 20,
    "start_time": "2024-07-30T13:04:27.100Z"
   },
   {
    "duration": 17,
    "start_time": "2024-07-30T13:04:32.094Z"
   },
   {
    "duration": 19,
    "start_time": "2024-07-30T13:05:07.770Z"
   },
   {
    "duration": 21,
    "start_time": "2024-07-30T13:05:24.692Z"
   },
   {
    "duration": 21,
    "start_time": "2024-07-30T13:06:41.867Z"
   },
   {
    "duration": 15,
    "start_time": "2024-07-30T13:06:54.064Z"
   },
   {
    "duration": 15,
    "start_time": "2024-07-30T13:07:02.336Z"
   },
   {
    "duration": 16,
    "start_time": "2024-07-30T15:22:08.855Z"
   },
   {
    "duration": 18,
    "start_time": "2024-07-30T15:22:09.597Z"
   },
   {
    "duration": 22,
    "start_time": "2024-07-30T15:26:09.286Z"
   },
   {
    "duration": 17,
    "start_time": "2024-07-30T15:31:09.410Z"
   },
   {
    "duration": 16,
    "start_time": "2024-07-30T15:32:17.378Z"
   },
   {
    "duration": 17,
    "start_time": "2024-07-30T15:36:28.109Z"
   },
   {
    "duration": 686,
    "start_time": "2024-07-30T15:49:51.985Z"
   },
   {
    "duration": 833,
    "start_time": "2024-07-30T15:50:09.759Z"
   },
   {
    "duration": 636,
    "start_time": "2024-07-30T15:50:30.576Z"
   },
   {
    "duration": 818,
    "start_time": "2024-07-30T15:50:47.221Z"
   },
   {
    "duration": 797,
    "start_time": "2024-07-30T15:50:58.064Z"
   },
   {
    "duration": 670,
    "start_time": "2024-07-30T15:51:12.284Z"
   },
   {
    "duration": 651,
    "start_time": "2024-07-30T15:51:26.224Z"
   },
   {
    "duration": 4,
    "start_time": "2024-07-30T15:51:36.948Z"
   },
   {
    "duration": 16,
    "start_time": "2024-07-30T15:51:36.957Z"
   },
   {
    "duration": 19,
    "start_time": "2024-07-30T15:51:37.421Z"
   },
   {
    "duration": 16,
    "start_time": "2024-07-30T15:51:37.444Z"
   },
   {
    "duration": 15,
    "start_time": "2024-07-30T15:51:37.463Z"
   },
   {
    "duration": 16,
    "start_time": "2024-07-30T15:51:37.481Z"
   },
   {
    "duration": 356,
    "start_time": "2024-07-30T15:51:39.710Z"
   },
   {
    "duration": 17,
    "start_time": "2024-07-30T15:54:53.852Z"
   },
   {
    "duration": 4863,
    "start_time": "2024-07-31T11:41:44.549Z"
   },
   {
    "duration": 23,
    "start_time": "2024-07-31T11:41:49.415Z"
   },
   {
    "duration": 24,
    "start_time": "2024-07-31T11:41:49.441Z"
   },
   {
    "duration": 17,
    "start_time": "2024-07-31T11:41:49.469Z"
   },
   {
    "duration": 39,
    "start_time": "2024-07-31T11:41:49.489Z"
   },
   {
    "duration": 18,
    "start_time": "2024-07-31T11:41:49.531Z"
   },
   {
    "duration": 412,
    "start_time": "2024-07-31T11:41:49.552Z"
   },
   {
    "duration": 11,
    "start_time": "2024-07-31T11:48:45.314Z"
   },
   {
    "duration": 23,
    "start_time": "2024-07-31T11:48:59.515Z"
   },
   {
    "duration": 21,
    "start_time": "2024-07-31T11:49:57.379Z"
   },
   {
    "duration": 27,
    "start_time": "2024-07-31T11:50:28.734Z"
   },
   {
    "duration": 23,
    "start_time": "2024-07-31T11:52:18.237Z"
   },
   {
    "duration": 2306,
    "start_time": "2024-07-31T11:53:37.759Z"
   },
   {
    "duration": 30,
    "start_time": "2024-07-31T12:05:06.246Z"
   },
   {
    "duration": 28,
    "start_time": "2024-07-31T12:05:55.357Z"
   },
   {
    "duration": 30,
    "start_time": "2024-07-31T12:06:36.538Z"
   },
   {
    "duration": 27,
    "start_time": "2024-07-31T12:08:46.510Z"
   },
   {
    "duration": 2508,
    "start_time": "2024-07-31T12:09:59.617Z"
   },
   {
    "duration": 2406,
    "start_time": "2024-07-31T12:10:16.610Z"
   },
   {
    "duration": 3,
    "start_time": "2024-07-31T12:18:36.440Z"
   },
   {
    "duration": 16,
    "start_time": "2024-07-31T12:18:36.452Z"
   },
   {
    "duration": 19,
    "start_time": "2024-07-31T12:18:36.471Z"
   },
   {
    "duration": 15,
    "start_time": "2024-07-31T12:18:36.700Z"
   },
   {
    "duration": 15,
    "start_time": "2024-07-31T12:18:36.719Z"
   },
   {
    "duration": 19,
    "start_time": "2024-07-31T12:18:36.737Z"
   },
   {
    "duration": 394,
    "start_time": "2024-07-31T12:18:36.760Z"
   },
   {
    "duration": 23,
    "start_time": "2024-07-31T12:18:37.158Z"
   },
   {
    "duration": 2433,
    "start_time": "2024-07-31T12:18:37.183Z"
   },
   {
    "duration": 30,
    "start_time": "2024-07-31T12:18:40.552Z"
   },
   {
    "duration": 2418,
    "start_time": "2024-07-31T12:18:40.991Z"
   },
   {
    "duration": 2559,
    "start_time": "2024-07-31T12:22:33.914Z"
   },
   {
    "duration": 2439,
    "start_time": "2024-07-31T12:22:57.499Z"
   },
   {
    "duration": 2414,
    "start_time": "2024-07-31T12:24:08.422Z"
   },
   {
    "duration": 25,
    "start_time": "2024-07-31T12:30:34.470Z"
   },
   {
    "duration": 572,
    "start_time": "2024-07-31T12:48:18.235Z"
   },
   {
    "duration": 23,
    "start_time": "2024-07-31T12:48:26.354Z"
   },
   {
    "duration": 520,
    "start_time": "2024-07-31T12:50:14.223Z"
   },
   {
    "duration": 276,
    "start_time": "2024-07-31T12:52:14.248Z"
   },
   {
    "duration": 345,
    "start_time": "2024-07-31T13:01:12.385Z"
   },
   {
    "duration": 0,
    "start_time": "2024-07-31T13:01:12.733Z"
   },
   {
    "duration": 443,
    "start_time": "2024-07-31T13:01:22.723Z"
   },
   {
    "duration": 452,
    "start_time": "2024-07-31T13:03:13.596Z"
   },
   {
    "duration": 454,
    "start_time": "2024-07-31T13:03:22.717Z"
   },
   {
    "duration": 14,
    "start_time": "2024-07-31T13:03:27.677Z"
   },
   {
    "duration": 250,
    "start_time": "2024-07-31T13:05:59.381Z"
   },
   {
    "duration": 378,
    "start_time": "2024-07-31T13:07:04.850Z"
   },
   {
    "duration": 17,
    "start_time": "2024-07-31T13:12:06.886Z"
   },
   {
    "duration": 453,
    "start_time": "2024-07-31T13:22:46.924Z"
   },
   {
    "duration": 282,
    "start_time": "2024-07-31T13:26:46.038Z"
   },
   {
    "duration": 294,
    "start_time": "2024-07-31T13:26:53.901Z"
   },
   {
    "duration": 26,
    "start_time": "2024-07-31T13:53:54.964Z"
   },
   {
    "duration": 375,
    "start_time": "2024-07-31T13:55:01.570Z"
   },
   {
    "duration": 402,
    "start_time": "2024-07-31T13:56:23.377Z"
   },
   {
    "duration": 9,
    "start_time": "2024-07-31T14:29:23.117Z"
   },
   {
    "duration": 17,
    "start_time": "2024-07-31T14:29:23.440Z"
   },
   {
    "duration": 20,
    "start_time": "2024-07-31T14:29:23.605Z"
   },
   {
    "duration": 16,
    "start_time": "2024-07-31T14:29:23.786Z"
   },
   {
    "duration": 16,
    "start_time": "2024-07-31T14:29:24.317Z"
   },
   {
    "duration": 19,
    "start_time": "2024-07-31T14:29:24.869Z"
   },
   {
    "duration": 357,
    "start_time": "2024-07-31T14:29:25.444Z"
   },
   {
    "duration": 422,
    "start_time": "2024-07-31T14:29:26.463Z"
   },
   {
    "duration": 27,
    "start_time": "2024-07-31T14:29:26.889Z"
   },
   {
    "duration": 287,
    "start_time": "2024-07-31T14:29:27.516Z"
   },
   {
    "duration": 282,
    "start_time": "2024-07-31T14:29:29.094Z"
   },
   {
    "duration": 518,
    "start_time": "2024-07-31T14:29:31.094Z"
   },
   {
    "duration": 1666,
    "start_time": "2024-07-31T14:31:13.307Z"
   },
   {
    "duration": 435,
    "start_time": "2024-07-31T14:32:54.966Z"
   },
   {
    "duration": 319,
    "start_time": "2024-07-31T14:33:16.318Z"
   },
   {
    "duration": 329,
    "start_time": "2024-07-31T14:33:36.497Z"
   },
   {
    "duration": 406,
    "start_time": "2024-07-31T14:42:27.300Z"
   },
   {
    "duration": 405,
    "start_time": "2024-07-31T14:42:30.242Z"
   },
   {
    "duration": 463,
    "start_time": "2024-07-31T14:42:45.081Z"
   },
   {
    "duration": 328,
    "start_time": "2024-07-31T14:44:06.520Z"
   },
   {
    "duration": 264,
    "start_time": "2024-07-31T14:44:26.420Z"
   },
   {
    "duration": 323,
    "start_time": "2024-07-31T14:44:40.474Z"
   },
   {
    "duration": 305,
    "start_time": "2024-07-31T14:44:50.444Z"
   },
   {
    "duration": 253,
    "start_time": "2024-07-31T14:45:21.225Z"
   },
   {
    "duration": 275,
    "start_time": "2024-07-31T14:45:36.919Z"
   },
   {
    "duration": 284,
    "start_time": "2024-07-31T14:45:55.697Z"
   },
   {
    "duration": 310,
    "start_time": "2024-07-31T14:46:11.229Z"
   },
   {
    "duration": 288,
    "start_time": "2024-07-31T14:46:23.884Z"
   },
   {
    "duration": 290,
    "start_time": "2024-07-31T14:46:29.667Z"
   },
   {
    "duration": 291,
    "start_time": "2024-07-31T14:46:36.120Z"
   },
   {
    "duration": 404,
    "start_time": "2024-07-31T14:56:48.493Z"
   },
   {
    "duration": 297,
    "start_time": "2024-07-31T14:56:50.089Z"
   },
   {
    "duration": 582,
    "start_time": "2024-07-31T14:59:30.597Z"
   },
   {
    "duration": 352,
    "start_time": "2024-07-31T14:59:55.646Z"
   },
   {
    "duration": 389,
    "start_time": "2024-07-31T15:00:10.323Z"
   },
   {
    "duration": 4,
    "start_time": "2024-07-31T15:08:10.458Z"
   },
   {
    "duration": 9,
    "start_time": "2024-07-31T15:08:49.411Z"
   },
   {
    "duration": 8,
    "start_time": "2024-07-31T15:09:43.449Z"
   },
   {
    "duration": 254,
    "start_time": "2024-07-31T15:09:54.021Z"
   },
   {
    "duration": 164,
    "start_time": "2024-07-31T15:10:46.303Z"
   },
   {
    "duration": 173,
    "start_time": "2024-07-31T15:13:56.300Z"
   },
   {
    "duration": 6,
    "start_time": "2024-07-31T15:14:38.297Z"
   },
   {
    "duration": 162,
    "start_time": "2024-07-31T15:17:02.793Z"
   },
   {
    "duration": 175,
    "start_time": "2024-07-31T15:17:03.930Z"
   },
   {
    "duration": 27,
    "start_time": "2024-07-31T15:21:22.798Z"
   },
   {
    "duration": 24,
    "start_time": "2024-07-31T15:21:32.295Z"
   },
   {
    "duration": 232,
    "start_time": "2024-07-31T15:21:40.166Z"
   },
   {
    "duration": 210,
    "start_time": "2024-07-31T15:26:06.000Z"
   },
   {
    "duration": 7,
    "start_time": "2024-07-31T15:30:03.212Z"
   },
   {
    "duration": 197,
    "start_time": "2024-07-31T15:30:14.161Z"
   },
   {
    "duration": 24,
    "start_time": "2024-07-31T15:30:15.204Z"
   },
   {
    "duration": 5,
    "start_time": "2024-07-31T15:30:25.750Z"
   },
   {
    "duration": 6,
    "start_time": "2024-07-31T15:31:12.462Z"
   },
   {
    "duration": 5,
    "start_time": "2024-07-31T15:31:20.381Z"
   },
   {
    "duration": 6,
    "start_time": "2024-07-31T15:31:29.727Z"
   },
   {
    "duration": 6,
    "start_time": "2024-07-31T15:31:38.618Z"
   },
   {
    "duration": 5,
    "start_time": "2024-07-31T15:32:06.116Z"
   },
   {
    "duration": 198,
    "start_time": "2024-07-31T15:32:17.184Z"
   },
   {
    "duration": 6,
    "start_time": "2024-07-31T15:32:19.045Z"
   },
   {
    "duration": 208,
    "start_time": "2024-07-31T15:38:21.157Z"
   },
   {
    "duration": 8,
    "start_time": "2024-07-31T15:38:21.733Z"
   },
   {
    "duration": 4942,
    "start_time": "2024-08-01T10:56:37.215Z"
   },
   {
    "duration": 21,
    "start_time": "2024-08-01T10:56:42.160Z"
   },
   {
    "duration": 22,
    "start_time": "2024-08-01T10:56:42.191Z"
   },
   {
    "duration": 20,
    "start_time": "2024-08-01T10:56:42.219Z"
   },
   {
    "duration": 19,
    "start_time": "2024-08-01T10:56:42.243Z"
   },
   {
    "duration": 42,
    "start_time": "2024-08-01T10:56:42.265Z"
   },
   {
    "duration": 415,
    "start_time": "2024-08-01T10:56:42.310Z"
   },
   {
    "duration": 462,
    "start_time": "2024-08-01T10:56:42.729Z"
   },
   {
    "duration": 17,
    "start_time": "2024-08-01T10:56:43.194Z"
   },
   {
    "duration": 312,
    "start_time": "2024-08-01T10:56:43.217Z"
   },
   {
    "duration": 299,
    "start_time": "2024-08-01T10:56:43.533Z"
   },
   {
    "duration": 467,
    "start_time": "2024-08-01T10:56:43.835Z"
   },
   {
    "duration": 296,
    "start_time": "2024-08-01T10:56:44.305Z"
   },
   {
    "duration": 413,
    "start_time": "2024-08-01T10:56:44.605Z"
   },
   {
    "duration": 258,
    "start_time": "2024-08-01T10:56:45.021Z"
   },
   {
    "duration": 181,
    "start_time": "2024-08-01T10:56:45.292Z"
   },
   {
    "duration": 176,
    "start_time": "2024-08-01T10:56:45.755Z"
   },
   {
    "duration": 5,
    "start_time": "2024-08-01T10:56:46.413Z"
   },
   {
    "duration": 202,
    "start_time": "2024-08-01T10:56:47.633Z"
   },
   {
    "duration": 6,
    "start_time": "2024-08-01T10:56:48.919Z"
   },
   {
    "duration": 235,
    "start_time": "2024-08-01T11:07:14.145Z"
   },
   {
    "duration": 230,
    "start_time": "2024-08-01T11:07:31.208Z"
   },
   {
    "duration": 245,
    "start_time": "2024-08-01T11:07:36.247Z"
   },
   {
    "duration": 4,
    "start_time": "2024-08-01T11:24:32.475Z"
   },
   {
    "duration": 17,
    "start_time": "2024-08-01T11:24:33.110Z"
   },
   {
    "duration": 21,
    "start_time": "2024-08-01T11:24:33.573Z"
   },
   {
    "duration": 16,
    "start_time": "2024-08-01T11:24:33.599Z"
   },
   {
    "duration": 18,
    "start_time": "2024-08-01T11:24:33.916Z"
   },
   {
    "duration": 18,
    "start_time": "2024-08-01T11:24:34.524Z"
   },
   {
    "duration": 358,
    "start_time": "2024-08-01T11:24:35.154Z"
   },
   {
    "duration": 454,
    "start_time": "2024-08-01T11:24:35.988Z"
   },
   {
    "duration": 26,
    "start_time": "2024-08-01T11:24:36.446Z"
   },
   {
    "duration": 303,
    "start_time": "2024-08-01T11:24:36.492Z"
   },
   {
    "duration": 284,
    "start_time": "2024-08-01T11:24:37.032Z"
   },
   {
    "duration": 404,
    "start_time": "2024-08-01T11:24:37.956Z"
   },
   {
    "duration": 302,
    "start_time": "2024-08-01T11:24:38.679Z"
   },
   {
    "duration": 407,
    "start_time": "2024-08-01T11:24:39.553Z"
   },
   {
    "duration": 224,
    "start_time": "2024-08-01T11:24:40.591Z"
   },
   {
    "duration": 173,
    "start_time": "2024-08-01T11:24:41.465Z"
   },
   {
    "duration": 266,
    "start_time": "2024-08-01T11:24:42.403Z"
   },
   {
    "duration": 6,
    "start_time": "2024-08-01T11:24:44.170Z"
   },
   {
    "duration": 203,
    "start_time": "2024-08-01T11:24:45.222Z"
   },
   {
    "duration": 7,
    "start_time": "2024-08-01T11:24:46.475Z"
   },
   {
    "duration": 244,
    "start_time": "2024-08-01T11:24:48.547Z"
   },
   {
    "duration": 628,
    "start_time": "2024-08-01T11:28:06.210Z"
   },
   {
    "duration": 261,
    "start_time": "2024-08-01T11:28:54.442Z"
   },
   {
    "duration": 29,
    "start_time": "2024-08-01T11:59:35.889Z"
   },
   {
    "duration": 15,
    "start_time": "2024-08-01T12:00:15.195Z"
   },
   {
    "duration": 31,
    "start_time": "2024-08-01T12:15:08.994Z"
   },
   {
    "duration": 865,
    "start_time": "2024-08-01T12:15:19.566Z"
   },
   {
    "duration": 12,
    "start_time": "2024-08-01T12:16:04.064Z"
   },
   {
    "duration": 12,
    "start_time": "2024-08-01T12:16:30.587Z"
   },
   {
    "duration": 13,
    "start_time": "2024-08-01T12:16:36.249Z"
   },
   {
    "duration": 14,
    "start_time": "2024-08-01T12:16:43.609Z"
   },
   {
    "duration": 98,
    "start_time": "2024-08-01T12:20:22.057Z"
   },
   {
    "duration": 39,
    "start_time": "2024-08-01T12:20:52.014Z"
   },
   {
    "duration": 33,
    "start_time": "2024-08-01T12:32:04.032Z"
   },
   {
    "duration": 97,
    "start_time": "2024-08-01T12:32:13.556Z"
   },
   {
    "duration": 92,
    "start_time": "2024-08-01T12:32:56.189Z"
   },
   {
    "duration": 21,
    "start_time": "2024-08-01T12:33:06.047Z"
   },
   {
    "duration": 4,
    "start_time": "2024-08-01T12:59:39.542Z"
   },
   {
    "duration": 18,
    "start_time": "2024-08-01T12:59:39.832Z"
   },
   {
    "duration": 18,
    "start_time": "2024-08-01T12:59:39.980Z"
   },
   {
    "duration": 15,
    "start_time": "2024-08-01T12:59:40.281Z"
   },
   {
    "duration": 16,
    "start_time": "2024-08-01T12:59:40.616Z"
   },
   {
    "duration": 18,
    "start_time": "2024-08-01T12:59:41.115Z"
   },
   {
    "duration": 359,
    "start_time": "2024-08-01T12:59:41.634Z"
   },
   {
    "duration": 430,
    "start_time": "2024-08-01T12:59:42.281Z"
   },
   {
    "duration": 20,
    "start_time": "2024-08-01T12:59:42.714Z"
   },
   {
    "duration": 330,
    "start_time": "2024-08-01T12:59:42.737Z"
   },
   {
    "duration": 290,
    "start_time": "2024-08-01T12:59:43.149Z"
   },
   {
    "duration": 367,
    "start_time": "2024-08-01T12:59:43.716Z"
   },
   {
    "duration": 287,
    "start_time": "2024-08-01T12:59:44.293Z"
   },
   {
    "duration": 368,
    "start_time": "2024-08-01T12:59:44.922Z"
   },
   {
    "duration": 233,
    "start_time": "2024-08-01T12:59:45.627Z"
   },
   {
    "duration": 187,
    "start_time": "2024-08-01T12:59:45.864Z"
   },
   {
    "duration": 170,
    "start_time": "2024-08-01T12:59:46.235Z"
   },
   {
    "duration": 6,
    "start_time": "2024-08-01T12:59:46.626Z"
   },
   {
    "duration": 308,
    "start_time": "2024-08-01T12:59:47.507Z"
   },
   {
    "duration": 5,
    "start_time": "2024-08-01T12:59:48.247Z"
   },
   {
    "duration": 280,
    "start_time": "2024-08-01T12:59:49.024Z"
   },
   {
    "duration": 15,
    "start_time": "2024-08-01T12:59:49.980Z"
   },
   {
    "duration": 13,
    "start_time": "2024-08-01T12:59:51.066Z"
   },
   {
    "duration": 40,
    "start_time": "2024-08-01T12:59:51.896Z"
   },
   {
    "duration": 19,
    "start_time": "2024-08-01T12:59:52.826Z"
   }
  ],
  "kernelspec": {
   "display_name": "Python 3 (ipykernel)",
   "language": "python",
   "name": "python3"
  },
  "language_info": {
   "codemirror_mode": {
    "name": "ipython",
    "version": 3
   },
   "file_extension": ".py",
   "mimetype": "text/x-python",
   "name": "python",
   "nbconvert_exporter": "python",
   "pygments_lexer": "ipython3",
   "version": "3.9.19"
  },
  "toc": {
   "base_numbering": 1,
   "nav_menu": {},
   "number_sections": true,
   "sideBar": true,
   "skip_h1_title": true,
   "title_cell": "Table of Contents",
   "title_sidebar": "Contents",
   "toc_cell": false,
   "toc_position": {
    "height": "calc(100% - 180px)",
    "left": "10px",
    "top": "150px",
    "width": "225.75px"
   },
   "toc_section_display": true,
   "toc_window_display": true
  }
 },
 "nbformat": 4,
 "nbformat_minor": 2
}
